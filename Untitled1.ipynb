{
  "nbformat": 4,
  "nbformat_minor": 0,
  "metadata": {
    "colab": {
      "provenance": [],
      "authorship_tag": "ABX9TyMBY0t4lYxpIBJIlSpbP2P0",
      "include_colab_link": true
    },
    "kernelspec": {
      "name": "python3",
      "display_name": "Python 3"
    },
    "language_info": {
      "name": "python"
    }
  },
  "cells": [
    {
      "cell_type": "markdown",
      "metadata": {
        "id": "view-in-github",
        "colab_type": "text"
      },
      "source": [
        "<a href=\"https://colab.research.google.com/github/pratyanj/scraper/blob/main/Untitled1.ipynb\" target=\"_parent\"><img src=\"https://colab.research.google.com/assets/colab-badge.svg\" alt=\"Open In Colab\"/></a>"
      ]
    },
    {
      "cell_type": "markdown",
      "source": [],
      "metadata": {
        "id": "5N-mNRizcWnr"
      }
    },
    {
      "cell_type": "code",
      "execution_count": 9,
      "metadata": {
        "id": "GGotrziJbAUC"
      },
      "outputs": [],
      "source": [
        "import requests\n",
        "from bs4 import BeautifulSoup"
      ]
    },
    {
      "cell_type": "code",
      "source": [
        "id = \"1071770321\"\n",
        "url = f\"https://shreemahabaliexpress.com/Frm_DocTrack.aspx?No=1071770321\""
      ],
      "metadata": {
        "id": "uihz3ycsc-fQ"
      },
      "execution_count": 20,
      "outputs": []
    },
    {
      "cell_type": "code",
      "source": [
        "requests.packages.urllib3.disable_warnings()\n",
        "headers = {\n",
        "      'User-Agent':\n",
        "      'Mozilla/5.0 (Windows NT 6.3; Win 64 ; x64) Apple WeKit /537.36(KHTML , like Gecko) Chrome/80.0.3987.162 Safari/537.36'\n",
        "    }"
      ],
      "metadata": {
        "id": "efEpMVgtdVRq"
      },
      "execution_count": 11,
      "outputs": []
    },
    {
      "cell_type": "code",
      "source": [
        "main_page = requests.get(url, headers=headers, verify=False).text.strip()\n",
        "# print(main_page)\n",
        "soup = BeautifulSoup(main_page, 'html.parser')"
      ],
      "metadata": {
        "id": "fwVMmcksddYG"
      },
      "execution_count": 22,
      "outputs": []
    },
    {
      "cell_type": "code",
      "source": [
        "all_data = {\n",
        "      \"AWB_NUMBER\": \"\",\n",
        "      \"STATUS\": \"\",\n",
        "      \"TRACKING HISTORY\": {},\n",
        "      \"LAST CENTER CONTACT DATA\": {\n",
        "          \"Phone\":\"\",\n",
        "          \"Center\":\"\",\n",
        "          }\n",
        "    }"
      ],
      "metadata": {
        "id": "4XADvr_EdlrJ"
      },
      "execution_count": 27,
      "outputs": []
    },
    {
      "cell_type": "code",
      "source": [
        "all_data[\"STATUS\"] = soup.select(\"h4 span\")[1].text\n",
        "print(all_data[\"STATUS\"])\n",
        "all_data[\"AWB_NUMBER\"] = soup.select(\"h4 span\")[0].text\n",
        "print(all_data[\"AWB_NUMBER\"] )\n",
        "all_data[\"LAST CENTER CONTACT DATA\"][\"Center\"] = soup.find('table').find_all('tr')[6](\"td\")[0].get_text().replace(\"Center :\", \"\")\n",
        "print(all_data[\"LAST CENTER CONTACT DATA\"][\"Center\"] )\n",
        "all_data[\"LAST CENTER CONTACT DATA\"][\"Phone\"] = soup.find('table').find_all('tr')[7](\"td\")[0].get_text().strip().replace(\"Phone :\", \"\")\n",
        "print(all_data[\"LAST CENTER CONTACT DATA\"][\"Phone\"] )\n"
      ],
      "metadata": {
        "colab": {
          "base_uri": "https://localhost:8080/"
        },
        "id": "zrkKOm-7dotA",
        "outputId": "8d1ee8b8-5cf4-4cd0-aca7-6ae6ff0ab7ab"
      },
      "execution_count": 34,
      "outputs": [
        {
          "output_type": "stream",
          "name": "stdout",
          "text": [
            "DELIVERED ON 22/01/22\n",
            "1071770321\n",
            " VASNA-AMD\n",
            " 8401619525\n"
          ]
        }
      ]
    },
    {
      "cell_type": "code",
      "source": [
        "tr_tag = soup.find('table').find_all('tr')\n",
        "tr_list = tr_tag[2:5]\n",
        "tr_num = len(tr_list)"
      ],
      "metadata": {
        "id": "CBzYzBY3eN61"
      },
      "execution_count": 35,
      "outputs": []
    },
    {
      "cell_type": "code",
      "source": [
        "for i in range(tr_num):\n",
        "      # print(\"This is index \",i)\n",
        "      id = soup.find('table').find_all('tr')[i + 2](\"td\")[0].get_text().strip()\n",
        "      # print(id)\n",
        "      ti_u_0 = {\n",
        "        f\"ti_u_{i+1}\": {\n",
        "          \"ManiFest/PKG.\": \"\",\n",
        "          \"Type\": \"\",\n",
        "          \"Branch\": \"\",\n",
        "          \"Date\": \"\",\n",
        "          \"Time\": \"\"\n",
        "        }\n",
        "      }\n",
        "\n",
        "      ti_u_0[f\"ti_u_{i+1}\"][\"ManiFest/PKG.\"] = soup.find('table').find_all('tr')[i + 2](\"td\")[0].get_text().strip()\n",
        "      ti_u_0[f\"ti_u_{i+1}\"][\"Type\"] = soup.find('table').find_all('tr')[i + 2](\"td\")[1].get_text().strip()\n",
        "      ti_u_0[f\"ti_u_{i+1}\"][\"Branch\"] = soup.find('table').find_all('tr')[i + 2](\"td\")[2].get_text().strip()\n",
        "      ti_u_0[f\"ti_u_{i+1}\"][\"Date\"] = soup.find('table').find_all('tr')[i + 2](\"td\")[3].get_text().strip()\n",
        "      ti_u_0[f\"ti_u_{i+1}\"][\"Time\"] = soup.find('table').find_all('tr')[i + 2](\"td\")[4].get_text().strip()\n",
        "      all_data[\"TRACKING HISTORY\"].update(ti_u_0)"
      ],
      "metadata": {
        "id": "JVXTY_BBhlbH"
      },
      "execution_count": 36,
      "outputs": []
    },
    {
      "cell_type": "code",
      "source": [
        "print(ti_u_0)"
      ],
      "metadata": {
        "colab": {
          "base_uri": "https://localhost:8080/"
        },
        "id": "jprHAJRphxuQ",
        "outputId": "0c520297-cc4a-446f-fa27-3a3cd3c093ff"
      },
      "execution_count": 38,
      "outputs": [
        {
          "output_type": "stream",
          "name": "stdout",
          "text": [
            "{'ti_u_3': {'ManiFest/PKG.': '1936', 'Type': 'IN', 'Branch': 'VASNA-AMD', 'Date': '22/01/22', 'Time': '11:08:05'}}\n"
          ]
        }
      ]
    }
  ]
}